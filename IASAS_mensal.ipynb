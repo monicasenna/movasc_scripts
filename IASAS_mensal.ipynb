{
  "nbformat": 4,
  "nbformat_minor": 0,
  "metadata": {
    "colab": {
      "provenance": [],
      "authorship_tag": "ABX9TyP5+Kn1xXGUBbzHryWLAhW4",
      "include_colab_link": true
    },
    "kernelspec": {
      "name": "python3",
      "display_name": "Python 3"
    },
    "language_info": {
      "name": "python"
    }
  },
  "cells": [
    {
      "cell_type": "markdown",
      "metadata": {
        "id": "view-in-github",
        "colab_type": "text"
      },
      "source": [
        "<a href=\"https://colab.research.google.com/github/monicasenna/movasc_scripts/blob/main/IASAS_mensal.ipynb\" target=\"_parent\"><img src=\"https://colab.research.google.com/assets/colab-badge.svg\" alt=\"Open In Colab\"/></a>"
      ]
    },
    {
      "cell_type": "code",
      "execution_count": 4,
      "metadata": {
        "id": "qKNrYURpJFla"
      },
      "outputs": [],
      "source": [
        "# Importar bibliotecas necessárias\n",
        "import pandas as pd\n"
      ]
    },
    {
      "cell_type": "code",
      "source": [
        "from google.colab import drive\n",
        "drive.mount('/content/drive')"
      ],
      "metadata": {
        "colab": {
          "base_uri": "https://localhost:8080/"
        },
        "id": "YDrAiJXuKz5e",
        "outputId": "ac55eda3-102f-4b11-870c-e7725842f5a4"
      },
      "execution_count": 2,
      "outputs": [
        {
          "output_type": "stream",
          "name": "stdout",
          "text": [
            "Mounted at /content/drive\n"
          ]
        }
      ]
    },
    {
      "cell_type": "code",
      "source": [
        "# Carregar dados (substitua 'dados_precipitacao.csv' pelo nome do seu arquivo)\n",
        "# O arquivo deve conter ao menos duas colunas: 'data' e 'precipitacao'\n",
        "df = pd.read_csv('/content/drive/MyDrive/Movasc2/IASAS.csv')\n",
        "df['data'] = pd.to_datetime(df['data'], format='%d/%m/%Y')\n",
        "#df\n",
        "\n",
        "# Passo 4: Criar colunas separadas para dia, mês e ano\n",
        "#df['dia'] = df['data'].dt.day\n",
        "#df['mes'] = df['data'].dt.month\n",
        "#df['ano'] = df['data'].dt.year\n",
        "\n",
        "# Passo 5: Mostrar resultado\n",
        "print(df)"
      ],
      "metadata": {
        "colab": {
          "base_uri": "https://localhost:8080/"
        },
        "id": "wprBt5rHNvUc",
        "outputId": "6b61ac8f-f0f9-4021-b74c-dd0a6372d78d"
      },
      "execution_count": 19,
      "outputs": [
        {
          "output_type": "stream",
          "name": "stdout",
          "text": [
            "            data  indice\n",
            "0     1993-01-02 -0.3939\n",
            "1     1993-01-03 -1.0779\n",
            "2     1993-01-04  1.2109\n",
            "3     1993-01-05  1.7748\n",
            "4     1993-01-06  0.9806\n",
            "...          ...     ...\n",
            "10648 2023-04-09 -1.2900\n",
            "10649 2023-04-10 -0.4764\n",
            "10650 2023-04-11  2.3393\n",
            "10651 2023-04-12  4.3323\n",
            "10652 2023-04-13 -1.3959\n",
            "\n",
            "[10653 rows x 2 columns]\n"
          ]
        }
      ]
    },
    {
      "cell_type": "code",
      "source": [
        "# Converter a coluna de data para o tipo datetime\n",
        "df['data'] = pd.to_datetime(df['data'])\n",
        "# Definir a coluna de data como índice (opcional, mas útil para o resample)\n",
        "df.set_index('data', inplace=True)\n",
        "# Agrupar por mês e somar a precipitação\n",
        "# Isso transforma dados diários em totais mensais\n",
        "df_mensal = df.resample('M').mean()\n",
        "# Exibir os dados mensais\n",
        "print(df_mensal.head())\n"
      ],
      "metadata": {
        "colab": {
          "base_uri": "https://localhost:8080/"
        },
        "id": "tc9OZj4mOK4H",
        "outputId": "5b7344d1-c3fe-44ec-beed-bf444e35f447"
      },
      "execution_count": 20,
      "outputs": [
        {
          "output_type": "stream",
          "name": "stdout",
          "text": [
            "              indice\n",
            "data                \n",
            "1993-01-31  1.761653\n",
            "1993-02-28 -0.504396\n",
            "1993-03-31 -0.023247\n",
            "1993-04-30  0.430041\n",
            "1993-05-31  1.293967\n"
          ]
        },
        {
          "output_type": "stream",
          "name": "stderr",
          "text": [
            "/tmp/ipython-input-20-766330097.py:7: FutureWarning: 'M' is deprecated and will be removed in a future version, please use 'ME' instead.\n",
            "  df_mensal = df.resample('M').mean()\n"
          ]
        }
      ]
    },
    {
      "cell_type": "code",
      "source": [
        "# Salvar o resultado em um novo CSV, se desejar\n",
        "df_mensal.to_csv('/content/drive/MyDrive/Movasc2/IASAS_mensal.csv')"
      ],
      "metadata": {
        "id": "FSVkXbrCO1Ha"
      },
      "execution_count": 22,
      "outputs": []
    }
  ]
}