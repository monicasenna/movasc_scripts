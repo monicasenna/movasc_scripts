{
  "nbformat": 4,
  "nbformat_minor": 0,
  "metadata": {
    "colab": {
      "provenance": [],
      "authorship_tag": "ABX9TyMt4YNYcRHXaJDgtqneq4MB",
      "include_colab_link": true
    },
    "kernelspec": {
      "name": "python3",
      "display_name": "Python 3"
    },
    "language_info": {
      "name": "python"
    }
  },
  "cells": [
    {
      "cell_type": "markdown",
      "metadata": {
        "id": "view-in-github",
        "colab_type": "text"
      },
      "source": [
        "<a href=\"https://colab.research.google.com/github/monicasenna/movasc_scripts/blob/main/estatistica_descritiva.ipynb\" target=\"_parent\"><img src=\"https://colab.research.google.com/assets/colab-badge.svg\" alt=\"Open In Colab\"/></a>"
      ]
    },
    {
      "cell_type": "code",
      "execution_count": null,
      "metadata": {
        "id": "YaawplG9sD_P"
      },
      "outputs": [],
      "source": [
        "# Bibliotecas necessárias\n",
        "import pandas as pd\n",
        "import numpy as np"
      ]
    },
    {
      "cell_type": "code",
      "source": [
        "# Upload de arquivo CSV\n",
        "from google.colab import drive\n",
        "drive.mount('/content/drive')\n",
        "\n",
        "# === 1. LER ARQUIVO CSV COM PRECIPITAÇÃO ===\n",
        "file_path = '/content/drive/MyDrive/Movasc2_scripts/avaliacao_29mai25_monica.csv'  # Substitua pelo caminho do seu arquivo\n",
        "df = pd.read_csv(file_path)\n",
        "\n",
        "# Verifica as primeiras linhas\n",
        "print(\"Amostra dos dados:\")\n",
        "print(df.head())\n"
      ],
      "metadata": {
        "colab": {
          "base_uri": "https://localhost:8080/"
        },
        "id": "8NnBFeLIsRnh",
        "outputId": "f045fe08-0191-4eef-d602-a2224f52ac7c"
      },
      "execution_count": null,
      "outputs": [
        {
          "output_type": "stream",
          "name": "stdout",
          "text": [
            "Drive already mounted at /content/drive; to attempt to forcibly remount, call drive.mount(\"/content/drive\", force_remount=True).\n",
            "Amostra dos dados:\n",
            "   Unnamed: 0   ano  mes  latitude  longitude    prec_obs  prec_prev\n",
            "0          65  2019    1    -23.55     -45.55  315.001373  241.30498\n",
            "1          78  2019    1    -23.45     -46.05  199.662008  221.41922\n",
            "2          79  2019    1    -23.45     -45.95  217.000336  211.06825\n",
            "3          82  2019    1    -23.45     -45.65  263.535722  234.97282\n",
            "4          86  2019    1    -23.45     -45.25  208.169805  281.90298\n"
          ]
        }
      ]
    },
    {
      "cell_type": "code",
      "source": [
        "# === 2. Garantir que os dados estão corretos ===\n",
        "# Ex: garantir nomes corretos das colunas (ajuste conforme seu CSV)\n",
        "df.columns = [col.strip().lower() for col in df.columns]\n",
        "df = df.rename(columns={\n",
        "    'ano': 'ano',\n",
        "    'mes': 'mes',\n",
        "    'latitude': 'lat',\n",
        "    'longitude': 'lon',\n",
        "    'prec_obs': 'precip'\n",
        "})\n",
        "\n",
        "print (df)"
      ],
      "metadata": {
        "colab": {
          "base_uri": "https://localhost:8080/"
        },
        "id": "laYFKw9QxRjf",
        "outputId": "0cbbefcf-3c47-46eb-ca19-0ddb054854cc"
      },
      "execution_count": null,
      "outputs": [
        {
          "output_type": "stream",
          "name": "stdout",
          "text": [
            "       unnamed: 0   ano  mes    lat    lon      precip  prec_prev\n",
            "0              65  2019    1 -23.55 -45.55  315.001373  241.30498\n",
            "1              78  2019    1 -23.45 -46.05  199.662008  221.41922\n",
            "2              79  2019    1 -23.45 -45.95  217.000336  211.06825\n",
            "3              82  2019    1 -23.45 -45.65  263.535722  234.97282\n",
            "4              86  2019    1 -23.45 -45.25  208.169805  281.90298\n",
            "...           ...   ...  ...    ...    ...         ...        ...\n",
            "12715      116750  2023   12 -20.85 -42.35  170.602283  149.04689\n",
            "12716      116752  2023   12 -20.85 -42.15  189.231544  141.52084\n",
            "12717      116877  2023   12 -20.65 -42.35  162.218085  157.52666\n",
            "12718      116878  2023   12 -20.65 -42.25  165.493484  155.28203\n",
            "12719      116879  2023   12 -20.65 -42.15  161.648152  141.37054\n",
            "\n",
            "[12720 rows x 7 columns]\n"
          ]
        }
      ]
    },
    {
      "cell_type": "code",
      "source": [
        "# === 3. Agrupar por coordenadas ===\n",
        "agrupado = df.groupby(['lat', 'lon'])\n",
        "\n",
        "# === 4. Calcular estatísticas descritivas ===\n",
        "estatisticas = agrupado['precip'].agg([\n",
        "    'count',           # número de observações\n",
        "    'mean',            # média\n",
        "    'std',             # desvio padrão\n",
        "    'var',             # variância\n",
        "    'min',             # valor mínimo\n",
        "    'max',             # valor máximo\n",
        "    'median'           # mediana\n",
        "]).reset_index()\n",
        "\n",
        "print(estatisticas)"
      ],
      "metadata": {
        "colab": {
          "base_uri": "https://localhost:8080/"
        },
        "id": "U4PhQFwRxiS0",
        "outputId": "65cf2efa-5a27-4e4a-9ffc-f7e3e75d6dbc"
      },
      "execution_count": null,
      "outputs": [
        {
          "output_type": "stream",
          "name": "stdout",
          "text": [
            "       lat    lon  count        mean         std           var        min  \\\n",
            "0   -23.55 -45.55     60  164.534669  107.004556  11449.974955  13.692129   \n",
            "1   -23.45 -46.05     60  121.456877   92.426591   8542.674704   3.838466   \n",
            "2   -23.45 -45.95     60  116.268540   89.591493   8026.635604   5.033265   \n",
            "3   -23.45 -45.65     60  135.873554   87.269543   7615.973093   7.100131   \n",
            "4   -23.45 -45.25     60  166.089396  101.801389  10363.522854  24.088260   \n",
            "..     ...    ...    ...         ...         ...           ...        ...   \n",
            "207 -20.85 -42.35     60  127.960639  126.248612  15938.712158   0.000000   \n",
            "208 -20.85 -42.15     60  125.189138  120.250417  14460.162786   0.075533   \n",
            "209 -20.65 -42.35     60  115.002899  113.880996  12968.881292   0.000000   \n",
            "210 -20.65 -42.25     60  122.429769  118.790152  14111.100175   0.089267   \n",
            "211 -20.65 -42.15     60  127.107799  123.969415  15368.415885   0.206000   \n",
            "\n",
            "            max      median  \n",
            "0    470.716727  131.263161  \n",
            "1    349.568163  102.392270  \n",
            "2    327.354503   90.234840  \n",
            "3    323.680837  111.397900  \n",
            "4    399.447615  133.487960  \n",
            "..          ...         ...  \n",
            "207  484.800256   68.470946  \n",
            "208  369.824824   61.865215  \n",
            "209  367.318491   64.409314  \n",
            "210  371.266823   61.408582  \n",
            "211  390.150151   69.143880  \n",
            "\n",
            "[212 rows x 9 columns]\n"
          ]
        }
      ]
    },
    {
      "cell_type": "code",
      "source": [
        "# === 5. Salvar os resultados em CSV (opcional) ===\n",
        "estatisticas.to_csv(\"/content/drive/MyDrive/Movasc2_scripts/estatisticas_precipitacao_por_ponto.csv\", index=False)"
      ],
      "metadata": {
        "id": "PiZ8SiXOxy1M"
      },
      "execution_count": null,
      "outputs": []
    }
  ]
}